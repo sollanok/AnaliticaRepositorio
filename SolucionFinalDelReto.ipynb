{
 "cells": [
  {
   "cell_type": "markdown",
   "metadata": {},
   "source": [
    "# Solución del Reto Equipo 9"
   ]
  },
  {
   "cell_type": "code",
   "execution_count": 2,
   "metadata": {},
   "outputs": [],
   "source": [
    "# Importar librerías\n",
    "import pandas as pd\n",
    "import matplotlib.pyplot as plt\n",
    "import seaborn as sns\n",
    "from collections import Counter\n",
    "\n",
    "# Asignar 'data' al documento CSV\n",
    "data = pd.read_csv(\"covid19_tweets.csv\")"
   ]
  },
  {
   "cell_type": "code",
   "execution_count": 3,
   "metadata": {},
   "outputs": [
    {
     "data": {
      "text/html": [
       "<div>\n",
       "<style scoped>\n",
       "    .dataframe tbody tr th:only-of-type {\n",
       "        vertical-align: middle;\n",
       "    }\n",
       "\n",
       "    .dataframe tbody tr th {\n",
       "        vertical-align: top;\n",
       "    }\n",
       "\n",
       "    .dataframe thead th {\n",
       "        text-align: right;\n",
       "    }\n",
       "</style>\n",
       "<table border=\"1\" class=\"dataframe\">\n",
       "  <thead>\n",
       "    <tr style=\"text-align: right;\">\n",
       "      <th></th>\n",
       "      <th>user_followers</th>\n",
       "      <th>user_friends</th>\n",
       "      <th>user_favourites</th>\n",
       "    </tr>\n",
       "  </thead>\n",
       "  <tbody>\n",
       "    <tr>\n",
       "      <th>count</th>\n",
       "      <td>7.443600e+04</td>\n",
       "      <td>74436.000000</td>\n",
       "      <td>7.443600e+04</td>\n",
       "    </tr>\n",
       "    <tr>\n",
       "      <th>mean</th>\n",
       "      <td>1.059513e+05</td>\n",
       "      <td>2154.721170</td>\n",
       "      <td>1.529747e+04</td>\n",
       "    </tr>\n",
       "    <tr>\n",
       "      <th>std</th>\n",
       "      <td>8.222900e+05</td>\n",
       "      <td>9365.587474</td>\n",
       "      <td>4.668971e+04</td>\n",
       "    </tr>\n",
       "    <tr>\n",
       "      <th>min</th>\n",
       "      <td>0.000000e+00</td>\n",
       "      <td>0.000000</td>\n",
       "      <td>0.000000e+00</td>\n",
       "    </tr>\n",
       "    <tr>\n",
       "      <th>25%</th>\n",
       "      <td>1.660000e+02</td>\n",
       "      <td>153.000000</td>\n",
       "      <td>2.200000e+02</td>\n",
       "    </tr>\n",
       "    <tr>\n",
       "      <th>50%</th>\n",
       "      <td>9.600000e+02</td>\n",
       "      <td>552.000000</td>\n",
       "      <td>1.927000e+03</td>\n",
       "    </tr>\n",
       "    <tr>\n",
       "      <th>75%</th>\n",
       "      <td>5.148000e+03</td>\n",
       "      <td>1780.250000</td>\n",
       "      <td>1.014800e+04</td>\n",
       "    </tr>\n",
       "    <tr>\n",
       "      <th>max</th>\n",
       "      <td>1.389284e+07</td>\n",
       "      <td>497363.000000</td>\n",
       "      <td>2.047197e+06</td>\n",
       "    </tr>\n",
       "  </tbody>\n",
       "</table>\n",
       "</div>"
      ],
      "text/plain": [
       "       user_followers   user_friends  user_favourites\n",
       "count    7.443600e+04   74436.000000     7.443600e+04\n",
       "mean     1.059513e+05    2154.721170     1.529747e+04\n",
       "std      8.222900e+05    9365.587474     4.668971e+04\n",
       "min      0.000000e+00       0.000000     0.000000e+00\n",
       "25%      1.660000e+02     153.000000     2.200000e+02\n",
       "50%      9.600000e+02     552.000000     1.927000e+03\n",
       "75%      5.148000e+03    1780.250000     1.014800e+04\n",
       "max      1.389284e+07  497363.000000     2.047197e+06"
      ]
     },
     "execution_count": 3,
     "metadata": {},
     "output_type": "execute_result"
    }
   ],
   "source": [
    "data.describe()"
   ]
  },
  {
   "cell_type": "code",
   "execution_count": 95,
   "metadata": {},
   "outputs": [
    {
     "data": {
      "text/html": [
       "<div>\n",
       "<style scoped>\n",
       "    .dataframe tbody tr th:only-of-type {\n",
       "        vertical-align: middle;\n",
       "    }\n",
       "\n",
       "    .dataframe tbody tr th {\n",
       "        vertical-align: top;\n",
       "    }\n",
       "\n",
       "    .dataframe thead th {\n",
       "        text-align: right;\n",
       "    }\n",
       "</style>\n",
       "<table border=\"1\" class=\"dataframe\">\n",
       "  <thead>\n",
       "    <tr style=\"text-align: right;\">\n",
       "      <th></th>\n",
       "      <th>user_name</th>\n",
       "      <th>user_followers</th>\n",
       "      <th>hashtags</th>\n",
       "    </tr>\n",
       "  </thead>\n",
       "  <tbody>\n",
       "    <tr>\n",
       "      <th>235</th>\n",
       "      <td>CGTN</td>\n",
       "      <td>13892795</td>\n",
       "      <td>['APEC', 'COVID19']</td>\n",
       "    </tr>\n",
       "    <tr>\n",
       "      <th>785</th>\n",
       "      <td>The Times Of India</td>\n",
       "      <td>12978547</td>\n",
       "      <td>NaN</td>\n",
       "    </tr>\n",
       "    <tr>\n",
       "      <th>1161</th>\n",
       "      <td>NDTV</td>\n",
       "      <td>13417047</td>\n",
       "      <td>['RajasthanPoliticalCrisis']</td>\n",
       "    </tr>\n",
       "    <tr>\n",
       "      <th>1354</th>\n",
       "      <td>NDTV</td>\n",
       "      <td>13417047</td>\n",
       "      <td>['RajasthanPoliticalCrisis']</td>\n",
       "    </tr>\n",
       "    <tr>\n",
       "      <th>2837</th>\n",
       "      <td>CGTN</td>\n",
       "      <td>13892793</td>\n",
       "      <td>['COVID19']</td>\n",
       "    </tr>\n",
       "  </tbody>\n",
       "</table>\n",
       "</div>"
      ],
      "text/plain": [
       "               user_name  user_followers                      hashtags\n",
       "235                 CGTN        13892795           ['APEC', 'COVID19']\n",
       "785   The Times Of India        12978547                           NaN\n",
       "1161                NDTV        13417047  ['RajasthanPoliticalCrisis']\n",
       "1354                NDTV        13417047  ['RajasthanPoliticalCrisis']\n",
       "2837                CGTN        13892793                   ['COVID19']"
      ]
     },
     "execution_count": 95,
     "metadata": {},
     "output_type": "execute_result"
    }
   ],
   "source": [
    "# Followers\n",
    "# Max número de seguidores: 13 892 840\n",
    "\n",
    "sub_df_followers = data[data['user_followers'] > 12000000]\n",
    "\n",
    "sub_df_followers[['user_name','user_followers','hashtags']].head()"
   ]
  },
  {
   "cell_type": "code",
   "execution_count": 108,
   "metadata": {},
   "outputs": [
    {
     "name": "stdout",
     "output_type": "stream",
     "text": [
      "China Xinhua News:      49\n",
      "The Times Of India:      42\n",
      "NDTV:      40\n",
      "CGTN:      18\n",
      "United Nations:       7\n"
     ]
    }
   ],
   "source": [
    "# Usuarios con más seguidores\n",
    "counter1 = Counter(sub_df_followers.user_name)\n",
    "frequencies1 = []\n",
    "\n",
    "for user, count in counter1.most_common(5):\n",
    "    print ('%s: %7d' % (user, count))\n",
    "    for i in range(count+1):\n",
    "        frequencies1.append(user)"
   ]
  },
  {
   "cell_type": "code",
   "execution_count": 109,
   "metadata": {},
   "outputs": [
    {
     "data": {
      "image/png": "[encoded data removed]",
      "text/plain": [
       "<Figure size 432x288 with 1 Axes>"
      ]
     },
     "metadata": {
      "needs_background": "light"
     },
     "output_type": "display_data"
    }
   ],
   "source": [
    "plt.hist(frequencies1, histtype ='bar', color = 'pink')\n",
    "\n",
    "plt.title('Número de tweets de los top 5 más seguidos \\n', \n",
    "          fontweight =\"bold\")\n",
    "\n",
    "plt.ylabel('Número de tweets')\n",
    "\n",
    "plt.show()"
   ]
  },
  {
   "cell_type": "code",
   "execution_count": 97,
   "metadata": {},
   "outputs": [
    {
     "name": "stdout",
     "output_type": "stream",
     "text": [
      "['COVID19']:      86\n",
      "nan:      19\n",
      "['BigFight', 'COVID19']:       7\n",
      "['BigFight']:       7\n",
      "['APEC', 'COVID19']:       2\n"
     ]
    }
   ],
   "source": [
    "# Counter para la sub dataframe que muestra los hashtags más comunes\n",
    "counter2 = Counter(sub_df_followers.hashtags)\n",
    "frequencies2 = []\n",
    "\n",
    "# Imprimir ordenados los top 5 usuarios con más seguidores\n",
    "for hashtag, count in counter2.most_common(5):\n",
    "    print ('%s: %7d' % (hashtag, count))\n",
    "    # Agregarlos a una lista para graficar el histograma después\n",
    "    for i in range(count+1):\n",
    "        frequencies2.append(hashtag)"
   ]
  },
  {
   "cell_type": "code",
   "execution_count": 110,
   "metadata": {},
   "outputs": [
    {
     "data": {
      "image/png": "[encoded data removed]",
      "text/plain": [
       "<Figure size 432x288 with 1 Axes>"
      ]
     },
     "metadata": {
      "needs_background": "light"
     },
     "output_type": "display_data"
    }
   ],
   "source": [
    "plt.hist(frequencies2, histtype ='bar', color = 'pink')\n",
    "\n",
    "plt.title('Hashtags usados por los usuarios con más seguidores \\n', \n",
    "          fontweight =\"bold\")\n",
    "\n",
    "plt.ylabel('Número de veces usado')\n",
    "\n",
    "plt.show()"
   ]
  },
  {
   "cell_type": "code",
   "execution_count": 98,
   "metadata": {},
   "outputs": [
    {
     "data": {
      "text/html": [
       "<div>\n",
       "<style scoped>\n",
       "    .dataframe tbody tr th:only-of-type {\n",
       "        vertical-align: middle;\n",
       "    }\n",
       "\n",
       "    .dataframe tbody tr th {\n",
       "        vertical-align: top;\n",
       "    }\n",
       "\n",
       "    .dataframe thead th {\n",
       "        text-align: right;\n",
       "    }\n",
       "</style>\n",
       "<table border=\"1\" class=\"dataframe\">\n",
       "  <thead>\n",
       "    <tr style=\"text-align: right;\">\n",
       "      <th></th>\n",
       "      <th>user_name</th>\n",
       "      <th>user_favourites</th>\n",
       "      <th>hashtags</th>\n",
       "    </tr>\n",
       "  </thead>\n",
       "  <tbody>\n",
       "    <tr>\n",
       "      <th>14504</th>\n",
       "      <td>Chelsea Anderson.♥️</td>\n",
       "      <td>2047197</td>\n",
       "      <td>['COVID19']</td>\n",
       "    </tr>\n",
       "    <tr>\n",
       "      <th>18269</th>\n",
       "      <td>paolo ignazio marong</td>\n",
       "      <td>1151965</td>\n",
       "      <td>['Covid19', 'Tokyo']</td>\n",
       "    </tr>\n",
       "    <tr>\n",
       "      <th>18306</th>\n",
       "      <td>paolo ignazio marong</td>\n",
       "      <td>1151965</td>\n",
       "      <td>['covid19', 'Giappone']</td>\n",
       "    </tr>\n",
       "    <tr>\n",
       "      <th>18744</th>\n",
       "      <td>paolo ignazio marong</td>\n",
       "      <td>1151965</td>\n",
       "      <td>['CoreadelSud', 'Covid19']</td>\n",
       "    </tr>\n",
       "    <tr>\n",
       "      <th>18865</th>\n",
       "      <td>paolo ignazio marong</td>\n",
       "      <td>1151965</td>\n",
       "      <td>['Australia', 'covid19']</td>\n",
       "    </tr>\n",
       "    <tr>\n",
       "      <th>44330</th>\n",
       "      <td>paolo ignazio marong</td>\n",
       "      <td>1153211</td>\n",
       "      <td>['India', 'covid19']</td>\n",
       "    </tr>\n",
       "    <tr>\n",
       "      <th>53316</th>\n",
       "      <td>paolo ignazio marong</td>\n",
       "      <td>1153721</td>\n",
       "      <td>['covid19']</td>\n",
       "    </tr>\n",
       "    <tr>\n",
       "      <th>53438</th>\n",
       "      <td>paolo ignazio marong</td>\n",
       "      <td>1153721</td>\n",
       "      <td>['covid19', 'India']</td>\n",
       "    </tr>\n",
       "    <tr>\n",
       "      <th>62126</th>\n",
       "      <td>paolo ignazio marong</td>\n",
       "      <td>1154019</td>\n",
       "      <td>['covid19']</td>\n",
       "    </tr>\n",
       "    <tr>\n",
       "      <th>62200</th>\n",
       "      <td>paolo ignazio marong</td>\n",
       "      <td>1154019</td>\n",
       "      <td>['Manchester', 'covid19']</td>\n",
       "    </tr>\n",
       "    <tr>\n",
       "      <th>62446</th>\n",
       "      <td>paolo ignazio marong</td>\n",
       "      <td>1154019</td>\n",
       "      <td>['Texas', 'Covid19']</td>\n",
       "    </tr>\n",
       "    <tr>\n",
       "      <th>69943</th>\n",
       "      <td>paolo ignazio marong</td>\n",
       "      <td>1154435</td>\n",
       "      <td>['lockdown', 'Covid19', 'Melbourne']</td>\n",
       "    </tr>\n",
       "    <tr>\n",
       "      <th>70610</th>\n",
       "      <td>paolo ignazio marong</td>\n",
       "      <td>1154435</td>\n",
       "      <td>['Covid19', 'USA', 'Fauci']</td>\n",
       "    </tr>\n",
       "    <tr>\n",
       "      <th>71764</th>\n",
       "      <td>paolo ignazio marong</td>\n",
       "      <td>1154435</td>\n",
       "      <td>['covid19']</td>\n",
       "    </tr>\n",
       "  </tbody>\n",
       "</table>\n",
       "</div>"
      ],
      "text/plain": [
       "                  user_name  user_favourites  \\\n",
       "14504   Chelsea Anderson.♥️          2047197   \n",
       "18269  paolo ignazio marong          1151965   \n",
       "18306  paolo ignazio marong          1151965   \n",
       "18744  paolo ignazio marong          1151965   \n",
       "18865  paolo ignazio marong          1151965   \n",
       "44330  paolo ignazio marong          1153211   \n",
       "53316  paolo ignazio marong          1153721   \n",
       "53438  paolo ignazio marong          1153721   \n",
       "62126  paolo ignazio marong          1154019   \n",
       "62200  paolo ignazio marong          1154019   \n",
       "62446  paolo ignazio marong          1154019   \n",
       "69943  paolo ignazio marong          1154435   \n",
       "70610  paolo ignazio marong          1154435   \n",
       "71764  paolo ignazio marong          1154435   \n",
       "\n",
       "                                   hashtags  \n",
       "14504                           ['COVID19']  \n",
       "18269                  ['Covid19', 'Tokyo']  \n",
       "18306               ['covid19', 'Giappone']  \n",
       "18744            ['CoreadelSud', 'Covid19']  \n",
       "18865              ['Australia', 'covid19']  \n",
       "44330                  ['India', 'covid19']  \n",
       "53316                           ['covid19']  \n",
       "53438                  ['covid19', 'India']  \n",
       "62126                           ['covid19']  \n",
       "62200             ['Manchester', 'covid19']  \n",
       "62446                  ['Texas', 'Covid19']  \n",
       "69943  ['lockdown', 'Covid19', 'Melbourne']  \n",
       "70610           ['Covid19', 'USA', 'Fauci']  \n",
       "71764                           ['covid19']  "
      ]
     },
     "execution_count": 98,
     "metadata": {},
     "output_type": "execute_result"
    }
   ],
   "source": [
    "# Likes\n",
    "# Max número de likes: 2 047 197\n",
    "\n",
    "# Sub dataframe de followers que sean mayores a 1 000 000\n",
    "sub_df_likes = data[data['user_favourites'] > 1000000]\n",
    "\n",
    "# Sub dataframe de los más seguidos con su respectivo username, followers y hashtags\n",
    "sub_df_likes[['user_name','user_favourites','hashtags']]"
   ]
  },
  {
   "cell_type": "code",
   "execution_count": 86,
   "metadata": {},
   "outputs": [
    {
     "name": "stdout",
     "output_type": "stream",
     "text": [
      "paolo ignazio marong:      13\n",
      "Chelsea Anderson.♥️:       1\n"
     ]
    }
   ],
   "source": [
    "counter3 = Counter(sub_df_likes.user_name)\n",
    "frequencies3 = []\n",
    "\n",
    "for user, count in counter3.most_common(5):\n",
    "    print ('%s: %7d' % (user, count))\n",
    "    for i in range(count+1):\n",
    "        frequencies3.append(user)"
   ]
  },
  {
   "cell_type": "code",
   "execution_count": 112,
   "metadata": {},
   "outputs": [
    {
     "data": {
      "image/png": "[encoded data removed]",
      "text/plain": [
       "<Figure size 432x288 with 1 Axes>"
      ]
     },
     "metadata": {
      "needs_background": "light"
     },
     "output_type": "display_data"
    }
   ],
   "source": [
    "plt.hist(frequencies3, histtype ='bar', color = 'pink')\n",
    "\n",
    "plt.title('Tweets con más likes \\n', \n",
    "          fontweight =\"bold\")\n",
    "\n",
    "plt.ylabel('Número de tweets')\n",
    "\n",
    "plt.show()"
   ]
  },
  {
   "cell_type": "code",
   "execution_count": 87,
   "metadata": {},
   "outputs": [
    {
     "data": {
      "text/html": [
       "<div>\n",
       "<style scoped>\n",
       "    .dataframe tbody tr th:only-of-type {\n",
       "        vertical-align: middle;\n",
       "    }\n",
       "\n",
       "    .dataframe tbody tr th {\n",
       "        vertical-align: top;\n",
       "    }\n",
       "\n",
       "    .dataframe thead th {\n",
       "        text-align: right;\n",
       "    }\n",
       "</style>\n",
       "<table border=\"1\" class=\"dataframe\">\n",
       "  <thead>\n",
       "    <tr style=\"text-align: right;\">\n",
       "      <th></th>\n",
       "      <th>user_name</th>\n",
       "      <th>date</th>\n",
       "    </tr>\n",
       "  </thead>\n",
       "  <tbody>\n",
       "    <tr>\n",
       "      <th>14504</th>\n",
       "      <td>Chelsea Anderson.♥️</td>\n",
       "      <td>2020-07-25 01:44:18</td>\n",
       "    </tr>\n",
       "    <tr>\n",
       "      <th>18269</th>\n",
       "      <td>paolo ignazio marong</td>\n",
       "      <td>2020-07-26 08:35:28</td>\n",
       "    </tr>\n",
       "    <tr>\n",
       "      <th>18306</th>\n",
       "      <td>paolo ignazio marong</td>\n",
       "      <td>2020-07-26 08:33:39</td>\n",
       "    </tr>\n",
       "    <tr>\n",
       "      <th>18744</th>\n",
       "      <td>paolo ignazio marong</td>\n",
       "      <td>2020-07-26 08:11:16</td>\n",
       "    </tr>\n",
       "    <tr>\n",
       "      <th>18865</th>\n",
       "      <td>paolo ignazio marong</td>\n",
       "      <td>2020-07-26 08:04:24</td>\n",
       "    </tr>\n",
       "    <tr>\n",
       "      <th>44330</th>\n",
       "      <td>paolo ignazio marong</td>\n",
       "      <td>2020-07-30 20:05:25</td>\n",
       "    </tr>\n",
       "    <tr>\n",
       "      <th>53316</th>\n",
       "      <td>paolo ignazio marong</td>\n",
       "      <td>2020-08-01 18:34:12</td>\n",
       "    </tr>\n",
       "    <tr>\n",
       "      <th>53438</th>\n",
       "      <td>paolo ignazio marong</td>\n",
       "      <td>2020-08-01 18:30:27</td>\n",
       "    </tr>\n",
       "    <tr>\n",
       "      <th>62126</th>\n",
       "      <td>paolo ignazio marong</td>\n",
       "      <td>2020-08-02 19:54:33</td>\n",
       "    </tr>\n",
       "    <tr>\n",
       "      <th>62200</th>\n",
       "      <td>paolo ignazio marong</td>\n",
       "      <td>2020-08-02 19:51:22</td>\n",
       "    </tr>\n",
       "    <tr>\n",
       "      <th>62446</th>\n",
       "      <td>paolo ignazio marong</td>\n",
       "      <td>2020-08-02 19:39:21</td>\n",
       "    </tr>\n",
       "    <tr>\n",
       "      <th>69943</th>\n",
       "      <td>paolo ignazio marong</td>\n",
       "      <td>2020-08-04 06:20:21</td>\n",
       "    </tr>\n",
       "    <tr>\n",
       "      <th>70610</th>\n",
       "      <td>paolo ignazio marong</td>\n",
       "      <td>2020-08-04 05:52:55</td>\n",
       "    </tr>\n",
       "    <tr>\n",
       "      <th>71764</th>\n",
       "      <td>paolo ignazio marong</td>\n",
       "      <td>2020-08-04 05:01:25</td>\n",
       "    </tr>\n",
       "  </tbody>\n",
       "</table>\n",
       "</div>"
      ],
      "text/plain": [
       "                  user_name                 date\n",
       "14504   Chelsea Anderson.♥️  2020-07-25 01:44:18\n",
       "18269  paolo ignazio marong  2020-07-26 08:35:28\n",
       "18306  paolo ignazio marong  2020-07-26 08:33:39\n",
       "18744  paolo ignazio marong  2020-07-26 08:11:16\n",
       "18865  paolo ignazio marong  2020-07-26 08:04:24\n",
       "44330  paolo ignazio marong  2020-07-30 20:05:25\n",
       "53316  paolo ignazio marong  2020-08-01 18:34:12\n",
       "53438  paolo ignazio marong  2020-08-01 18:30:27\n",
       "62126  paolo ignazio marong  2020-08-02 19:54:33\n",
       "62200  paolo ignazio marong  2020-08-02 19:51:22\n",
       "62446  paolo ignazio marong  2020-08-02 19:39:21\n",
       "69943  paolo ignazio marong  2020-08-04 06:20:21\n",
       "70610  paolo ignazio marong  2020-08-04 05:52:55\n",
       "71764  paolo ignazio marong  2020-08-04 05:01:25"
      ]
     },
     "execution_count": 87,
     "metadata": {},
     "output_type": "execute_result"
    }
   ],
   "source": [
    "# Likes\n",
    "# Max número de likes: 2 047 197\n",
    "\n",
    "# Sub dataframe de followers que sean mayores a 1 000 000\n",
    "sub_df_likes = data[data['user_favourites'] > 1000000]\n",
    "\n",
    "# Sub dataframe de los más seguidos con su respectivo username, followers y hashtags\n",
    "sub_df_likes[['user_name','date']]"
   ]
  },
  {
   "cell_type": "code",
   "execution_count": 117,
   "metadata": {},
   "outputs": [
    {
     "name": "stdout",
     "output_type": "stream",
     "text": [
      "False:   65082\n",
      "True:    9354\n"
     ]
    }
   ],
   "source": [
    "counter4 = Counter(data.user_verified)\n",
    "\n",
    "for user, count in counter4.most_common(5):\n",
    "    print ('%s: %7d' % (user, count))"
   ]
  },
  {
   "cell_type": "code",
   "execution_count": 119,
   "metadata": {},
   "outputs": [
    {
     "data": {
      "image/png": "[encoded data removed]",
      "text/plain": [
       "<Figure size 432x288 with 1 Axes>"
      ]
     },
     "metadata": {
      "needs_background": "light"
     },
     "output_type": "display_data"
    }
   ],
   "source": [
    "falses = 65082\n",
    "trues = 9354\n",
    "frequencies4 = []\n",
    "\n",
    "for i in range(falses+1):\n",
    "    frequencies4.append(\"No verificados\")\n",
    "\n",
    "for i in range(trues+1):\n",
    "    frequencies4.append(\"Verificados\")\n",
    "    \n",
    "\n",
    "plt.hist(frequencies4, histtype ='bar', color = 'pink')\n",
    "\n",
    "plt.title('Verified users \\n', \n",
    "          fontweight =\"bold\")\n",
    "\n",
    "plt.ylabel('Número de usuarios')\n",
    "\n",
    "plt.show()"
   ]
  },
  {
   "cell_type": "code",
   "execution_count": 89,
   "metadata": {},
   "outputs": [
    {
     "data": {
      "text/html": [
       "<div>\n",
       "<style scoped>\n",
       "    .dataframe tbody tr th:only-of-type {\n",
       "        vertical-align: middle;\n",
       "    }\n",
       "\n",
       "    .dataframe tbody tr th {\n",
       "        vertical-align: top;\n",
       "    }\n",
       "\n",
       "    .dataframe thead th {\n",
       "        text-align: right;\n",
       "    }\n",
       "</style>\n",
       "<table border=\"1\" class=\"dataframe\">\n",
       "  <thead>\n",
       "    <tr style=\"text-align: right;\">\n",
       "      <th></th>\n",
       "      <th>user_name</th>\n",
       "      <th>user_favourites</th>\n",
       "      <th>text</th>\n",
       "    </tr>\n",
       "  </thead>\n",
       "  <tbody>\n",
       "    <tr>\n",
       "      <th>1</th>\n",
       "      <td>Tom Basile 🇺🇸</td>\n",
       "      <td>24</td>\n",
       "      <td>Hey @Yankees @YankeesPR and @MLB - wouldn't it...</td>\n",
       "    </tr>\n",
       "    <tr>\n",
       "      <th>21</th>\n",
       "      <td>APO Group English</td>\n",
       "      <td>2037</td>\n",
       "      <td>Coronavirus - South Africa: COVID-19 update fo...</td>\n",
       "    </tr>\n",
       "    <tr>\n",
       "      <th>25</th>\n",
       "      <td>Blood Donors India</td>\n",
       "      <td>19359</td>\n",
       "      <td>#Kolar\\nNeed #Blood Type :  B-positive\\nAt : J...</td>\n",
       "    </tr>\n",
       "    <tr>\n",
       "      <th>39</th>\n",
       "      <td>ASHP</td>\n",
       "      <td>7862</td>\n",
       "      <td>We released two new #COVID19 podcast episodes ...</td>\n",
       "    </tr>\n",
       "    <tr>\n",
       "      <th>43</th>\n",
       "      <td>TOI Delhi</td>\n",
       "      <td>74</td>\n",
       "      <td>#Delhi reports 1,142 #COVID19 positive cases a...</td>\n",
       "    </tr>\n",
       "  </tbody>\n",
       "</table>\n",
       "</div>"
      ],
      "text/plain": [
       "             user_name  user_favourites  \\\n",
       "1        Tom Basile 🇺🇸               24   \n",
       "21   APO Group English             2037   \n",
       "25  Blood Donors India            19359   \n",
       "39                ASHP             7862   \n",
       "43           TOI Delhi               74   \n",
       "\n",
       "                                                 text  \n",
       "1   Hey @Yankees @YankeesPR and @MLB - wouldn't it...  \n",
       "21  Coronavirus - South Africa: COVID-19 update fo...  \n",
       "25  #Kolar\\nNeed #Blood Type :  B-positive\\nAt : J...  \n",
       "39  We released two new #COVID19 podcast episodes ...  \n",
       "43  #Delhi reports 1,142 #COVID19 positive cases a...  "
      ]
     },
     "execution_count": 89,
     "metadata": {},
     "output_type": "execute_result"
    }
   ],
   "source": [
    "# Verified\n",
    "\n",
    "sub_df_verified = data[data['user_verified'] == True]\n",
    "\n",
    "sub_df_verified[['user_name','user_favourites','text']].head()"
   ]
  },
  {
   "cell_type": "code",
   "execution_count": 90,
   "metadata": {},
   "outputs": [
    {
     "data": {
      "text/html": [
       "<div>\n",
       "<style scoped>\n",
       "    .dataframe tbody tr th:only-of-type {\n",
       "        vertical-align: middle;\n",
       "    }\n",
       "\n",
       "    .dataframe tbody tr th {\n",
       "        vertical-align: top;\n",
       "    }\n",
       "\n",
       "    .dataframe thead th {\n",
       "        text-align: right;\n",
       "    }\n",
       "</style>\n",
       "<table border=\"1\" class=\"dataframe\">\n",
       "  <thead>\n",
       "    <tr style=\"text-align: right;\">\n",
       "      <th></th>\n",
       "      <th>user_name</th>\n",
       "      <th>user_favourites</th>\n",
       "      <th>text</th>\n",
       "    </tr>\n",
       "  </thead>\n",
       "  <tbody>\n",
       "    <tr>\n",
       "      <th>15997</th>\n",
       "      <td>Charles Gaba</td>\n",
       "      <td>567227</td>\n",
       "      <td>Welp. By Sunday night, not only will New York ...</td>\n",
       "    </tr>\n",
       "    <tr>\n",
       "      <th>16538</th>\n",
       "      <td>Carlos Gil 📙</td>\n",
       "      <td>350900</td>\n",
       "      <td>I'm grateful for colleagues who recognize that...</td>\n",
       "    </tr>\n",
       "    <tr>\n",
       "      <th>31946</th>\n",
       "      <td>Charles Gaba</td>\n",
       "      <td>567911</td>\n",
       "      <td>...and here's cumulative #COVID19 deaths per c...</td>\n",
       "    </tr>\n",
       "    <tr>\n",
       "      <th>32104</th>\n",
       "      <td>Charles Gaba</td>\n",
       "      <td>567911</td>\n",
       "      <td>(sigh) Annnnd there you have it: Louisiana now...</td>\n",
       "    </tr>\n",
       "    <tr>\n",
       "      <th>40174</th>\n",
       "      <td>Charles Gaba</td>\n",
       "      <td>568432</td>\n",
       "      <td>Here, I'll make it easier for you, Mr. Finley....</td>\n",
       "    </tr>\n",
       "    <tr>\n",
       "      <th>41420</th>\n",
       "      <td>David Weissman</td>\n",
       "      <td>338567</td>\n",
       "      <td>@realDonaldTrump @AirForceOne_HQ @FoxNews 150,...</td>\n",
       "    </tr>\n",
       "    <tr>\n",
       "      <th>44195</th>\n",
       "      <td>David Weissman</td>\n",
       "      <td>339619</td>\n",
       "      <td>How many more people will die from #COVID19 be...</td>\n",
       "    </tr>\n",
       "    <tr>\n",
       "      <th>48512</th>\n",
       "      <td>Charles Gaba</td>\n",
       "      <td>569102</td>\n",
       "      <td>Louisiana now has the highest per capita #COVI...</td>\n",
       "    </tr>\n",
       "    <tr>\n",
       "      <th>51484</th>\n",
       "      <td>Charles Gaba</td>\n",
       "      <td>569102</td>\n",
       "      <td>Next up: State Executives! The #COVID19 pandem...</td>\n",
       "    </tr>\n",
       "    <tr>\n",
       "      <th>55590</th>\n",
       "      <td>Charles Gaba</td>\n",
       "      <td>569372</td>\n",
       "      <td>FLORIDA. 9,600 more #COVID19 cases. 179 more d...</td>\n",
       "    </tr>\n",
       "    <tr>\n",
       "      <th>62346</th>\n",
       "      <td>Charles Gaba</td>\n",
       "      <td>569642</td>\n",
       "      <td>THE TREND CONTINUES: As of 8/01, 14.9% of all ...</td>\n",
       "    </tr>\n",
       "    <tr>\n",
       "      <th>71177</th>\n",
       "      <td>Charles Gaba</td>\n",
       "      <td>570018</td>\n",
       "      <td>See how the 1st red line is now well above the...</td>\n",
       "    </tr>\n",
       "  </tbody>\n",
       "</table>\n",
       "</div>"
      ],
      "text/plain": [
       "            user_name  user_favourites  \\\n",
       "15997    Charles Gaba           567227   \n",
       "16538    Carlos Gil 📙           350900   \n",
       "31946    Charles Gaba           567911   \n",
       "32104    Charles Gaba           567911   \n",
       "40174    Charles Gaba           568432   \n",
       "41420  David Weissman           338567   \n",
       "44195  David Weissman           339619   \n",
       "48512    Charles Gaba           569102   \n",
       "51484    Charles Gaba           569102   \n",
       "55590    Charles Gaba           569372   \n",
       "62346    Charles Gaba           569642   \n",
       "71177    Charles Gaba           570018   \n",
       "\n",
       "                                                    text  \n",
       "15997  Welp. By Sunday night, not only will New York ...  \n",
       "16538  I'm grateful for colleagues who recognize that...  \n",
       "31946  ...and here's cumulative #COVID19 deaths per c...  \n",
       "32104  (sigh) Annnnd there you have it: Louisiana now...  \n",
       "40174  Here, I'll make it easier for you, Mr. Finley....  \n",
       "41420  @realDonaldTrump @AirForceOne_HQ @FoxNews 150,...  \n",
       "44195  How many more people will die from #COVID19 be...  \n",
       "48512  Louisiana now has the highest per capita #COVI...  \n",
       "51484  Next up: State Executives! The #COVID19 pandem...  \n",
       "55590  FLORIDA. 9,600 more #COVID19 cases. 179 more d...  \n",
       "62346  THE TREND CONTINUES: As of 8/01, 14.9% of all ...  \n",
       "71177  See how the 1st red line is now well above the...  "
      ]
     },
     "execution_count": 90,
     "metadata": {},
     "output_type": "execute_result"
    }
   ],
   "source": [
    "verified_liked = sub_df_verified[sub_df_verified['user_favourites'] > 300000]\n",
    "\n",
    "verified_liked[['user_name','user_favourites', 'text']]"
   ]
  },
  {
   "cell_type": "code",
   "execution_count": 120,
   "metadata": {},
   "outputs": [
    {
     "name": "stdout",
     "output_type": "stream",
     "text": [
      "Charles Gaba:       9\n",
      "David Weissman:       2\n",
      "Carlos Gil 📙:       1\n"
     ]
    }
   ],
   "source": [
    "counter5 = Counter(verified_liked.user_name)\n",
    "frequencies5 = []\n",
    "\n",
    "for user, count in counter5.most_common(5):\n",
    "    print ('%s: %7d' % (user, count))\n",
    "    for i in range(count+1):\n",
    "        frequencies5.append(user)"
   ]
  },
  {
   "cell_type": "code",
   "execution_count": 122,
   "metadata": {},
   "outputs": [
    {
     "data": {
      "image/png": "[encoded data removed]",
      "text/plain": [
       "<Figure size 432x288 with 1 Axes>"
      ]
     },
     "metadata": {
      "needs_background": "light"
     },
     "output_type": "display_data"
    }
   ],
   "source": [
    "plt.hist(frequencies5, histtype ='bar', color = 'pink')\n",
    "\n",
    "plt.title('Tweets de usuarios verificados con más likes \\n', \n",
    "          fontweight =\"bold\")\n",
    "\n",
    "plt.ylabel('Número de tweets')\n",
    "\n",
    "plt.show()"
   ]
  },
  {
   "cell_type": "code",
   "execution_count": 100,
   "metadata": {},
   "outputs": [
    {
     "data": {
      "text/html": [
       "<div>\n",
       "<style scoped>\n",
       "    .dataframe tbody tr th:only-of-type {\n",
       "        vertical-align: middle;\n",
       "    }\n",
       "\n",
       "    .dataframe tbody tr th {\n",
       "        vertical-align: top;\n",
       "    }\n",
       "\n",
       "    .dataframe thead th {\n",
       "        text-align: right;\n",
       "    }\n",
       "</style>\n",
       "<table border=\"1\" class=\"dataframe\">\n",
       "  <thead>\n",
       "    <tr style=\"text-align: right;\">\n",
       "      <th></th>\n",
       "      <th>user_name</th>\n",
       "      <th>user_favourites</th>\n",
       "      <th>text</th>\n",
       "    </tr>\n",
       "  </thead>\n",
       "  <tbody>\n",
       "    <tr>\n",
       "      <th>0</th>\n",
       "      <td>ᏉᎥ☻լꂅϮ</td>\n",
       "      <td>18775</td>\n",
       "      <td>If I smelled the scent of hand sanitizers toda...</td>\n",
       "    </tr>\n",
       "    <tr>\n",
       "      <th>2</th>\n",
       "      <td>Time4fisticuffs</td>\n",
       "      <td>7254</td>\n",
       "      <td>@diane3443 @wdunlap @realDonaldTrump Trump nev...</td>\n",
       "    </tr>\n",
       "    <tr>\n",
       "      <th>3</th>\n",
       "      <td>ethel mertz</td>\n",
       "      <td>1488</td>\n",
       "      <td>@brookbanktv The one gift #COVID19 has give me...</td>\n",
       "    </tr>\n",
       "    <tr>\n",
       "      <th>4</th>\n",
       "      <td>DIPR-J&amp;K</td>\n",
       "      <td>101</td>\n",
       "      <td>25 July : Media Bulletin on Novel #CoronaVirus...</td>\n",
       "    </tr>\n",
       "    <tr>\n",
       "      <th>5</th>\n",
       "      <td>🎹 Franz Schubert</td>\n",
       "      <td>1287</td>\n",
       "      <td>#coronavirus #covid19 deaths continue to rise....</td>\n",
       "    </tr>\n",
       "  </tbody>\n",
       "</table>\n",
       "</div>"
      ],
      "text/plain": [
       "          user_name  user_favourites  \\\n",
       "0            ᏉᎥ☻լꂅϮ            18775   \n",
       "2   Time4fisticuffs             7254   \n",
       "3       ethel mertz             1488   \n",
       "4          DIPR-J&K              101   \n",
       "5  🎹 Franz Schubert             1287   \n",
       "\n",
       "                                                text  \n",
       "0  If I smelled the scent of hand sanitizers toda...  \n",
       "2  @diane3443 @wdunlap @realDonaldTrump Trump nev...  \n",
       "3  @brookbanktv The one gift #COVID19 has give me...  \n",
       "4  25 July : Media Bulletin on Novel #CoronaVirus...  \n",
       "5  #coronavirus #covid19 deaths continue to rise....  "
      ]
     },
     "execution_count": 100,
     "metadata": {},
     "output_type": "execute_result"
    }
   ],
   "source": [
    "# Non Verified\n",
    "\n",
    "sub_df_nonverified = data[data['user_verified'] == False]\n",
    "\n",
    "sub_df_nonverified[['user_name','user_favourites','text']].head()"
   ]
  },
  {
   "cell_type": "code",
   "execution_count": 105,
   "metadata": {},
   "outputs": [
    {
     "data": {
      "text/html": [
       "<div>\n",
       "<style scoped>\n",
       "    .dataframe tbody tr th:only-of-type {\n",
       "        vertical-align: middle;\n",
       "    }\n",
       "\n",
       "    .dataframe tbody tr th {\n",
       "        vertical-align: top;\n",
       "    }\n",
       "\n",
       "    .dataframe thead th {\n",
       "        text-align: right;\n",
       "    }\n",
       "</style>\n",
       "<table border=\"1\" class=\"dataframe\">\n",
       "  <thead>\n",
       "    <tr style=\"text-align: right;\">\n",
       "      <th></th>\n",
       "      <th>user_name</th>\n",
       "      <th>user_favourites</th>\n",
       "      <th>text</th>\n",
       "    </tr>\n",
       "  </thead>\n",
       "  <tbody>\n",
       "    <tr>\n",
       "      <th>14504</th>\n",
       "      <td>Chelsea Anderson.♥️</td>\n",
       "      <td>2047197</td>\n",
       "      <td>So Trump wants everyone else's child to get #C...</td>\n",
       "    </tr>\n",
       "    <tr>\n",
       "      <th>18269</th>\n",
       "      <td>paolo ignazio marong</td>\n",
       "      <td>1151965</td>\n",
       "      <td>Numeri ridotti di #Covid19 ma da monitorare a ...</td>\n",
       "    </tr>\n",
       "    <tr>\n",
       "      <th>18306</th>\n",
       "      <td>paolo ignazio marong</td>\n",
       "      <td>1151965</td>\n",
       "      <td>Il divertimento notturno nel mirino #covid19 #...</td>\n",
       "    </tr>\n",
       "    <tr>\n",
       "      <th>18744</th>\n",
       "      <td>paolo ignazio marong</td>\n",
       "      <td>1151965</td>\n",
       "      <td>Di nuovo sotto 60 casi in #CoreadelSud #Covid1...</td>\n",
       "    </tr>\n",
       "    <tr>\n",
       "      <th>18865</th>\n",
       "      <td>paolo ignazio marong</td>\n",
       "      <td>1151965</td>\n",
       "      <td>Numeri ancora ridotti ma mai così alti in #Aus...</td>\n",
       "    </tr>\n",
       "    <tr>\n",
       "      <th>24554</th>\n",
       "      <td>IBookery</td>\n",
       "      <td>816448</td>\n",
       "      <td>@leahmcelrath @Acyn What is the best caliber r...</td>\n",
       "    </tr>\n",
       "    <tr>\n",
       "      <th>40960</th>\n",
       "      <td>David Lance #FBPE #WATON</td>\n",
       "      <td>810208</td>\n",
       "      <td>Tell Congress: Abusive employers must be held ...</td>\n",
       "    </tr>\n",
       "    <tr>\n",
       "      <th>40968</th>\n",
       "      <td>David Lance #FBPE #WATON</td>\n",
       "      <td>810208</td>\n",
       "      <td>Tell Congress: Abusive employers must be held ...</td>\n",
       "    </tr>\n",
       "    <tr>\n",
       "      <th>44330</th>\n",
       "      <td>paolo ignazio marong</td>\n",
       "      <td>1153211</td>\n",
       "      <td>Nuovo record di casi in #India #covid19 TOI Co...</td>\n",
       "    </tr>\n",
       "    <tr>\n",
       "      <th>50089</th>\n",
       "      <td>Matt</td>\n",
       "      <td>810150</td>\n",
       "      <td>Vote by mail ballots only go to registered vot...</td>\n",
       "    </tr>\n",
       "    <tr>\n",
       "      <th>53316</th>\n",
       "      <td>paolo ignazio marong</td>\n",
       "      <td>1153721</td>\n",
       "      <td>Very interesting #covid19 https://t.co/NZFoBNnMir</td>\n",
       "    </tr>\n",
       "    <tr>\n",
       "      <th>53438</th>\n",
       "      <td>paolo ignazio marong</td>\n",
       "      <td>1153721</td>\n",
       "      <td>Ennesimo record di casi #covid19 #India TOI Co...</td>\n",
       "    </tr>\n",
       "    <tr>\n",
       "      <th>55830</th>\n",
       "      <td>Janis Sexton</td>\n",
       "      <td>751403</td>\n",
       "      <td>What Spain Is Telling Us About Second Wave of ...</td>\n",
       "    </tr>\n",
       "    <tr>\n",
       "      <th>62126</th>\n",
       "      <td>paolo ignazio marong</td>\n",
       "      <td>1154019</td>\n",
       "      <td>Una dichiarazione da soppesare #covid19 Corona...</td>\n",
       "    </tr>\n",
       "    <tr>\n",
       "      <th>62200</th>\n",
       "      <td>paolo ignazio marong</td>\n",
       "      <td>1154019</td>\n",
       "      <td>L'area della grande #Manchester sotto osservaz...</td>\n",
       "    </tr>\n",
       "    <tr>\n",
       "      <th>62446</th>\n",
       "      <td>paolo ignazio marong</td>\n",
       "      <td>1154019</td>\n",
       "      <td>Numeri leggermente declinanti anche in #Texas ...</td>\n",
       "    </tr>\n",
       "    <tr>\n",
       "      <th>68728</th>\n",
       "      <td>David Lance #FBPE #WATON</td>\n",
       "      <td>810315</td>\n",
       "      <td>Tell Congress: Abusive employers must be held ...</td>\n",
       "    </tr>\n",
       "    <tr>\n",
       "      <th>69943</th>\n",
       "      <td>paolo ignazio marong</td>\n",
       "      <td>1154435</td>\n",
       "      <td>Resistenza anche violenta alle misure del #loc...</td>\n",
       "    </tr>\n",
       "    <tr>\n",
       "      <th>70610</th>\n",
       "      <td>paolo ignazio marong</td>\n",
       "      <td>1154435</td>\n",
       "      <td>Era il 29 marzo scorso #Covid19 #USA #Fauci Es...</td>\n",
       "    </tr>\n",
       "    <tr>\n",
       "      <th>71764</th>\n",
       "      <td>paolo ignazio marong</td>\n",
       "      <td>1154435</td>\n",
       "      <td>Misure restrittive estese ma numeri sotto cont...</td>\n",
       "    </tr>\n",
       "  </tbody>\n",
       "</table>\n",
       "</div>"
      ],
      "text/plain": [
       "                      user_name  user_favourites  \\\n",
       "14504       Chelsea Anderson.♥️          2047197   \n",
       "18269      paolo ignazio marong          1151965   \n",
       "18306      paolo ignazio marong          1151965   \n",
       "18744      paolo ignazio marong          1151965   \n",
       "18865      paolo ignazio marong          1151965   \n",
       "24554                  IBookery           816448   \n",
       "40960  David Lance #FBPE #WATON           810208   \n",
       "40968  David Lance #FBPE #WATON           810208   \n",
       "44330      paolo ignazio marong          1153211   \n",
       "50089                      Matt           810150   \n",
       "53316      paolo ignazio marong          1153721   \n",
       "53438      paolo ignazio marong          1153721   \n",
       "55830              Janis Sexton           751403   \n",
       "62126      paolo ignazio marong          1154019   \n",
       "62200      paolo ignazio marong          1154019   \n",
       "62446      paolo ignazio marong          1154019   \n",
       "68728  David Lance #FBPE #WATON           810315   \n",
       "69943      paolo ignazio marong          1154435   \n",
       "70610      paolo ignazio marong          1154435   \n",
       "71764      paolo ignazio marong          1154435   \n",
       "\n",
       "                                                    text  \n",
       "14504  So Trump wants everyone else's child to get #C...  \n",
       "18269  Numeri ridotti di #Covid19 ma da monitorare a ...  \n",
       "18306  Il divertimento notturno nel mirino #covid19 #...  \n",
       "18744  Di nuovo sotto 60 casi in #CoreadelSud #Covid1...  \n",
       "18865  Numeri ancora ridotti ma mai così alti in #Aus...  \n",
       "24554  @leahmcelrath @Acyn What is the best caliber r...  \n",
       "40960  Tell Congress: Abusive employers must be held ...  \n",
       "40968  Tell Congress: Abusive employers must be held ...  \n",
       "44330  Nuovo record di casi in #India #covid19 TOI Co...  \n",
       "50089  Vote by mail ballots only go to registered vot...  \n",
       "53316  Very interesting #covid19 https://t.co/NZFoBNnMir  \n",
       "53438  Ennesimo record di casi #covid19 #India TOI Co...  \n",
       "55830  What Spain Is Telling Us About Second Wave of ...  \n",
       "62126  Una dichiarazione da soppesare #covid19 Corona...  \n",
       "62200  L'area della grande #Manchester sotto osservaz...  \n",
       "62446  Numeri leggermente declinanti anche in #Texas ...  \n",
       "68728  Tell Congress: Abusive employers must be held ...  \n",
       "69943  Resistenza anche violenta alle misure del #loc...  \n",
       "70610  Era il 29 marzo scorso #Covid19 #USA #Fauci Es...  \n",
       "71764  Misure restrittive estese ma numeri sotto cont...  "
      ]
     },
     "execution_count": 105,
     "metadata": {},
     "output_type": "execute_result"
    }
   ],
   "source": [
    "nonverified_liked = sub_df_nonverified[sub_df_nonverified['user_favourites'] > 700000]\n",
    "\n",
    "nonverified_liked[['user_name','user_favourites', 'text']]"
   ]
  },
  {
   "cell_type": "code",
   "execution_count": 106,
   "metadata": {},
   "outputs": [
    {
     "name": "stdout",
     "output_type": "stream",
     "text": [
      "paolo ignazio marong:      13\n",
      "David Lance #FBPE #WATON:       3\n",
      "Chelsea Anderson.♥️:       1\n",
      "IBookery:       1\n",
      "Matt:       1\n"
     ]
    }
   ],
   "source": [
    "counter6 = Counter(nonverified_liked.user_name)\n",
    "frequencies6 = []\n",
    "\n",
    "for user, count in counter6.most_common(5):\n",
    "    print ('%s: %7d' % (user, count))\n",
    "    for i in range(count+1):\n",
    "        frequencies6.append(user)"
   ]
  },
  {
   "cell_type": "code",
   "execution_count": 123,
   "metadata": {},
   "outputs": [
    {
     "data": {
      "image/png": "[encoded data removed]",
      "text/plain": [
       "<Figure size 432x288 with 1 Axes>"
      ]
     },
     "metadata": {
      "needs_background": "light"
     },
     "output_type": "display_data"
    }
   ],
   "source": [
    "plt.hist(frequencies6, histtype ='bar', color = 'pink')\n",
    "\n",
    "plt.title('Tweets con más likes de usuarios no verificados \\n', \n",
    "          fontweight =\"bold\")\n",
    "\n",
    "plt.ylabel('Número de tweets')\n",
    "\n",
    "plt.show()"
   ]
  },
  {
   "cell_type": "code",
   "execution_count": 131,
   "metadata": {},
   "outputs": [
    {
     "data": {
      "image/png": "[encoded data removed]",
      "text/plain": [
       "<Figure size 720x504 with 1 Axes>"
      ]
     },
     "metadata": {
      "needs_background": "light"
     },
     "output_type": "display_data"
    }
   ],
   "source": [
    "followers = data['user_followers']\n",
    "likes = data['user_favourites']\n",
    "\n",
    "columns = [followers, likes]\n",
    "\n",
    "fig = plt.figure(figsize =(10, 7))\n",
    "plt.boxplot(columns)\n",
    "\n",
    "plt.title('Box and whiskers de seguidores y likes \\n', \n",
    "          fontweight =\"bold\")\n",
    "\n",
    "plt.xlabel('Seguidores                                                                         Likes')\n",
    "\n",
    "plt.show() # Mostrar la figura"
   ]
  },
  {
   "cell_type": "code",
   "execution_count": 133,
   "metadata": {},
   "outputs": [
    {
     "data": {
      "text/plain": [
       "<AxesSubplot:>"
      ]
     },
     "execution_count": 133,
     "metadata": {},
     "output_type": "execute_result"
    },
    {
     "data": {
      "image/png": "[encoded data removed]",
      "text/plain": [
       "<Figure size 432x288 with 2 Axes>"
      ]
     },
     "metadata": {
      "needs_background": "light"
     },
     "output_type": "display_data"
    }
   ],
   "source": [
    "pearsoncorr = data.corr(method ='pearson')\n",
    "\n",
    "sns.heatmap(pearsoncorr,xticklabels = pearsoncorr.columns,\n",
    "            yticklabels = pearsoncorr.columns,cmap = 'pink',annot=True)"
   ]
  },
  {
   "cell_type": "code",
   "execution_count": 3,
   "metadata": {},
   "outputs": [
    {
     "data": {
      "text/plain": [
       "India               1496\n",
       "United States       1172\n",
       "New Delhi, India     669\n",
       "Washington, DC       589\n",
       "Mumbai, India        554\n",
       "New York, NY         527\n",
       "Los Angeles, CA      420\n",
       "USA                  405\n",
       "Canada               396\n",
       "United Kingdom       388\n",
       "Name: user_location, dtype: int64"
      ]
     },
     "execution_count": 3,
     "metadata": {},
     "output_type": "execute_result"
    }
   ],
   "source": [
    "# Ubicar las 10 localidades más repetidas\n",
    "df_data = pd.DataFrame(data)\n",
    "locations = df_data['user_location'].value_counts()\n",
    "locations[0:10]"
   ]
  },
  {
   "cell_type": "code",
   "execution_count": 7,
   "metadata": {},
   "outputs": [
    {
     "data": {
      "text/plain": [
       "<AxesSubplot:title={'center':'Locations with most of the tweet accounts'}, ylabel='user_location'>"
      ]
     },
     "execution_count": 7,
     "metadata": {},
     "output_type": "execute_result"
    },
    {
     "data": {
      "image/png": "[encoded data removed]",
      "text/plain": [
       "<Figure size 432x288 with 1 Axes>"
      ]
     },
     "metadata": {},
     "output_type": "display_data"
    }
   ],
   "source": [
    "# Graficar las 10 localidades más repetidas\n",
    "fig1, ax1 = plt.subplots()\n",
    "locations[0:10].plot(kind='pie',title=\"Locations with most of the tweet accounts\")"
   ]
  },
  {
   "cell_type": "code",
   "execution_count": 4,
   "metadata": {},
   "outputs": [
    {
     "data": {
      "text/plain": [
       "source\n",
       "DirectorsTalk Auto Posting        1\n",
       "Etsy                              1\n",
       "WatchDog Uganda                   1\n",
       "WPwamnwebsitescript               1\n",
       "VoxPop Sync                       1\n",
       "                              ...  \n",
       "Hootsuite Inc.                 2846\n",
       "TweetDeck                      3453\n",
       "Twitter for iPhone            15824\n",
       "Twitter for Android           16758\n",
       "Twitter Web App               22974\n",
       "Length: 450, dtype: int64"
      ]
     },
     "execution_count": 4,
     "metadata": {},
     "output_type": "execute_result"
    }
   ],
   "source": [
    "# Tabla dinámica con índice source para determinar el tamaño de cada una\n",
    "sources = data.pivot_table(index=['source'], aggfunc='size')\n",
    "sources.sort_values()"
   ]
  },
  {
   "cell_type": "code",
   "execution_count": 5,
   "metadata": {},
   "outputs": [
    {
     "data": {
      "image/png": "[encoded data removed]",
      "text/plain": [
       "<Figure size 432x288 with 1 Axes>"
      ]
     },
     "metadata": {
      "needs_background": "light"
     },
     "output_type": "display_data"
    }
   ],
   "source": [
    "# Graficar fuentes más usadas por usuarios\n",
    "nameLabels_x = [\"Web App\", \"Android\", \"iPhone\",\"TweetDeck\",\"Hootsuite Inc.\"]\n",
    "\n",
    "numberSources_y = []\n",
    "numberSources_y.append(sources[\"Twitter Web App\"])\n",
    "numberSources_y.append(sources[\"Twitter for Android\"])\n",
    "numberSources_y.append(sources[\"Twitter for iPhone\"])\n",
    "numberSources_y.append(sources[\"TweetDeck\"])\n",
    "numberSources_y.append(sources[\"Hootsuite Inc.\"])\n",
    "\n",
    "plt.bar(nameLabels_x, numberSources_y, color='turquoise')\n",
    "plt.title(\"Tweet sources\")\n",
    "plt.xlabel(\"Most common sources\")\n",
    "plt.ylabel(\"Users\")\n",
    "plt.show()"
   ]
  },
  {
   "cell_type": "code",
   "execution_count": null,
   "metadata": {},
   "outputs": [],
   "source": []
  }
 ],
 "metadata": {
  "kernelspec": {
   "display_name": "Python 3",
   "language": "python",
   "name": "python3"
  },
  "language_info": {
   "codemirror_mode": {
    "name": "ipython",
    "version": 3
   },
   "file_extension": ".py",
   "mimetype": "text/x-python",
   "name": "python",
   "nbconvert_exporter": "python",
   "pygments_lexer": "ipython3",
   "version": "3.8.5"
  }
 },
 "nbformat": 4,
 "nbformat_minor": 4
}
